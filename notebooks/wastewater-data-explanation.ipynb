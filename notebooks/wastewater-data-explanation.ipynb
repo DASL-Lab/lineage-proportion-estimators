{
 "cells": [
  {
   "cell_type": "markdown",
   "metadata": {},
   "source": [
    "# Wastewater SARS-CoV-2 Data\n",
    "\n",
    "After sequencing, we are left with the following data:\n",
    "\n",
    "| Read | Sequence |\n",
    "|------|----------|\n",
    "| 1    | ATCA     |\n",
    "| 2    | TCAC     |\n",
    "| 3    | CACTA    |\n",
    "| 4    | TCAATA   |\n",
    "| 5    | TCTC     |\n",
    "| 6    | TCTC     |\n",
    "\n",
    "Alignment is the process of matching these reads up to a reference, which in this toy example results in the following:\n",
    "\n",
    "| Read      | 1 | 2 | 3 | 4 | 5 | 6 | 7 | ... |\n",
    "|-----------|---|---|---|---|---|---|---|-----|\n",
    "| Reference | A | T | C | A | C | T | A | ... |\n",
    "| 1         | A | T | C | A | - | - | - | ... |\n",
    "| 2         | - | T | C | A | C | - | - | ... |\n",
    "| 3         | - | - | C | A | C | T | A | ... |\n",
    "| 4         | - | T | C | A | A | T | A | ... |\n",
    "| 5         | - | T | C | T | C | - | - | ... |\n",
    "| 6         | - | T | C | T | C | - | - | ... |\n",
    "| Depth     | 1 | 5 | 6 | 6 | 5 | 2 | 2 | ... | \n",
    "\n",
    "A couple interesting things:\n",
    "\n",
    "- This example is 1-indexed. Always good to know when you're working with genome positions.\n",
    "- The read depth is the total number of reads that aligned with a given position on the genome.\n",
    "- Read 4 has a mutation at position 5, where C changed to A.\n",
    "    - This mutation would be recorded by gromstole as `C5A`.\n",
    "    - There were 5 reads that were aligned to this position, so we have 1 mutation out of 5 reads.\n",
    "- Similarly, mutation `A4T` has a count of 2 and a coverage of 6, leading to a frequency of 0.33.\n",
    "- Paired-end reads are a little trickier to deal with and are different depending on who you ask.\n",
    "\n",
    "In the `gromstole` pipeline, these Single Nucleotide Variations will not include the reference base and the two mutations shown are simply `~5A` and `~4T`.\n",
    "\n",
    "- Insertions and deletions can also occur - a deletion of 3 bases at position 5 would be labelled `-5.3` and an insertion of 3 bases at position 5 would be `+5.3`.\n",
    "\n",
    "# Amino acid changes\n",
    "\n",
    "With SARS-CoV-2, we know the positions of the amino acids (special groups of 3 bases), and the genome is split up into coding regions (e.g. the \"spike protein\").\n"
   ]
  },
  {
   "cell_type": "code",
   "execution_count": 1,
   "metadata": {
    "vscode": {
     "languageId": "r"
    }
   },
   "outputs": [
    {
     "data": {
      "text/html": [
       "<style>\n",
       ".list-inline {list-style: none; margin:0; padding: 0}\n",
       ".list-inline>li {display: inline-block}\n",
       ".list-inline>li:not(:last-child)::after {content: \"\\00b7\"; padding: 0 .5ex}\n",
       "</style>\n",
       "<ol class=list-inline><li>'aa:orf1a:S1924R'</li><li>'aa:orf1a:S1924R'</li></ol>\n"
      ],
      "text/latex": [
       "\\begin{enumerate*}\n",
       "\\item 'aa:orf1a:S1924R'\n",
       "\\item 'aa:orf1a:S1924R'\n",
       "\\end{enumerate*}\n"
      ],
      "text/markdown": [
       "1. 'aa:orf1a:S1924R'\n",
       "2. 'aa:orf1a:S1924R'\n",
       "\n",
       "\n"
      ],
      "text/plain": [
       "[1] \"aa:orf1a:S1924R\" \"aa:orf1a:S1924R\""
      ]
     },
     "metadata": {},
     "output_type": "display_data"
    }
   ],
   "source": [
    "provoc:::parse_mutations(c(\"~6037A\", \"~6037G\"))"
   ]
  },
  {
   "cell_type": "markdown",
   "metadata": {},
   "source": [
    "The output indicates that a mutation to A (from C) at location 6037 is an amino acid change from S to R at amino acid number 1924 in Open Reading Frame 1A. If the C had mutated to a G instead, we would get the same amino acid change. "
   ]
  }
 ],
 "metadata": {
  "kernelspec": {
   "display_name": "R",
   "language": "R",
   "name": "ir"
  },
  "language_info": {
   "codemirror_mode": "r",
   "file_extension": ".r",
   "mimetype": "text/x-r-source",
   "name": "R",
   "pygments_lexer": "r",
   "version": "4.2.1"
  }
 },
 "nbformat": 4,
 "nbformat_minor": 2
}
