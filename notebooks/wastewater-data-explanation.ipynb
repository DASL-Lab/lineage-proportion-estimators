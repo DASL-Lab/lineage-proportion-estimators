{
 "cells": [
  {
   "cell_type": "code",
   "execution_count": null,
   "metadata": {
    "vscode": {
     "languageId": "r"
    }
   },
   "outputs": [],
   "source": [
    "library(here)\n"
   ]
  },
  {
   "cell_type": "markdown",
   "metadata": {},
   "source": [
    "# Wastewater SARS-CoV-2 Data\n",
    "\n",
    "After sequencing, we are left with the following data:\n",
    "\n",
    "| Read | Sequence |\n",
    "|------|----------|\n",
    "| 1    | ATCA     |\n",
    "| 2    | TCAC     |\n",
    "| 3    | CACTA    |\n",
    "| 4    | TCAATA   |\n",
    "| 5    | TCTC     |\n",
    "| 6    | TCTC     |\n",
    "\n",
    "Alignment is the process of matching these reads up to a reference, which in this toy example results in the following:\n",
    "\n",
    "| Read      | 1 | 2 | 3 | 4 | 5 | 6 | 7 | ... |\n",
    "|-----------|---|---|---|---|---|---|---|-----|\n",
    "| Reference | A | T | C | A | C | T | A | ... |\n",
    "| 1         | A | T | C | A | - | - | - | ... |\n",
    "| 2         | - | T | C | A | C | - | - | ... |\n",
    "| 3         | - | - | C | A | C | T | A | ... |\n",
    "| 4         | - | T | C | A | A | T | A | ... |\n",
    "| 5         | - | T | C | T | C | - | - | ... |\n",
    "| 6         | - | T | C | T | C | - | - | ... |\n",
    "| Depth     | 1 | 5 | 6 | 6 | 5 | 2 | 2 | ... | \n",
    "\n",
    "A couple interesting things:\n",
    "\n",
    "- This example is 1-indexed. Always good to know when you're working with genome positions.\n",
    "- The read depth is the total number of reads that aligned with a given position on the genome.\n",
    "- Read 4 has a mutation at position 5, where C changed to A.\n",
    "    - This mutation would be recorded by gromstole as `C5A`.\n",
    "    - There were 5 reads that were aligned to this position, so we have 1 mutation out of 5 reads.\n",
    "- Similarly, mutation `A4T` has a count of 2 and a coverage of 6, leading to a frequency of 0.33.\n",
    "- Paired-end reads are a little trickier to deal with and are different depending on who you ask.\n",
    "\n",
    "In the [`gromstole`](https://github.com/PoonLab/gromstole) pipeline, these Single Nucleotide Variations will not include the reference base and the two mutations shown are simply `~5A` and `~4T`.\n",
    "\n",
    "- Insertions and deletions can also occur - a deletion of 3 bases at position 5 would be labelled `-5.3` and an insertion of 3 bases at position 5 would be `+5.3`.\n",
    "\n",
    "# Amino acid changes\n",
    "\n",
    "With SARS-CoV-2, we know the positions of the amino acids (special groups of 3 bases), and the genome is split up into coding regions (e.g. the \"spike protein\").\n"
   ]
  },
  {
   "cell_type": "code",
   "execution_count": 2,
   "metadata": {
    "vscode": {
     "languageId": "r"
    }
   },
   "outputs": [
    {
     "data": {
      "text/html": [
       "<style>\n",
       ".list-inline {list-style: none; margin:0; padding: 0}\n",
       ".list-inline>li {display: inline-block}\n",
       ".list-inline>li:not(:last-child)::after {content: \"\\00b7\"; padding: 0 .5ex}\n",
       "</style>\n",
       "<ol class=list-inline><li>'aa:orf1a:S1924R'</li><li>'aa:orf1a:S1924R'</li></ol>\n"
      ],
      "text/latex": [
       "\\begin{enumerate*}\n",
       "\\item 'aa:orf1a:S1924R'\n",
       "\\item 'aa:orf1a:S1924R'\n",
       "\\end{enumerate*}\n"
      ],
      "text/markdown": [
       "1. 'aa:orf1a:S1924R'\n",
       "2. 'aa:orf1a:S1924R'\n",
       "\n",
       "\n"
      ],
      "text/plain": [
       "[1] \"aa:orf1a:S1924R\" \"aa:orf1a:S1924R\""
      ]
     },
     "metadata": {},
     "output_type": "display_data"
    }
   ],
   "source": [
    "provoc:::parse_mutations(c(\"~6037A\", \"~6037G\"))\n"
   ]
  },
  {
   "cell_type": "markdown",
   "metadata": {},
   "source": [
    "The output indicates that a mutation to A (from C) at location 6037 is an amino acid change from S to R at amino acid number 1924 in Open Reading Frame 1A. If the C had mutated to a G instead, we would get the same amino acid change.\n",
    "\n",
    "Also note that the amino acid position 1924 is a little less than $6037/3$. The position of the AA is based on the start of the reading frame, which is a few hundred base pairs from the start. In the example below, notice that the point mutation at position 24000 shows up at AA position 813 in the spike protein."
   ]
  },
  {
   "cell_type": "code",
   "execution_count": 3,
   "metadata": {
    "vscode": {
     "languageId": "r"
    }
   },
   "outputs": [
    {
     "data": {
      "text/html": [
       "'aa:S:S813T'"
      ],
      "text/latex": [
       "'aa:S:S813T'"
      ],
      "text/markdown": [
       "'aa:S:S813T'"
      ],
      "text/plain": [
       "[1] \"aa:S:S813T\""
      ]
     },
     "metadata": {},
     "output_type": "display_data"
    }
   ],
   "source": [
    "provoc:::parse_mutations(\"~24000C\")\n"
   ]
  },
  {
   "cell_type": "markdown",
   "metadata": {},
   "source": [
    "# The Data\n",
    "\n",
    "With all this in place, we can finally see the data used for modelling. From the counts and read depths (also called coverage), we can get a table that looks like this:\n",
    "\n",
    "| position | label   | mutation | frequency | coverage |\n",
    "|----------|---------|----------|-----------|----------|\n",
    "| 10621    | ~10622T | aa:orf1a:T3453S | 0.043478260869565216 | 23 |\n",
    "| 10665    | ~10666A | T10666A | 0.043478260869565216 | 23 |\n",
    "| 10597    | ~10598G | aa:orf1a:Y3445D | 0.043478260869565216 | 23 |\n",
    "| 10638    | ~10639G | T10639G | 0.043478260869565216 | 23 | \n",
    "| 10510    | ~10511T | aa:orf1a:D3416Y | 0.043478260869565216 | 23 |\n",
    "| 11531    | -11532.1| del:11532:1 | 0.004291845493562232 | 233 |\n",
    "\n"
   ]
  },
  {
   "cell_type": "markdown",
   "metadata": {},
   "source": [
    "The above file is specific to the `GromStole` pipeline. There are a few things to note:\n",
    "\n",
    "- The first five have the same `coverage`. This is normal - the \"ARTIC\" protocol is a set of \"primers\" that try and gather data from specific positions (there's always the possibility for variability in this, so it's not perfect).\n",
    "    - The first five have the same frequency as well, namely 1/23. This tells us that there was a count of 1, although this number is not reported.\n",
    "- `Position` is 0-indexed.\n",
    "- There's a \"`label`\" and \"`mutation`\" column.\n",
    "    - The \"`label`\" uses a \"~\" to denote a point mutation, a \"-\" to denote a deletion, and a \"+\" to denote an insertion. The next part is the 1-indexed position. The final part is the new nucleotide, the number of nucleotides deleted, or the nucleotides added, respectively.\n",
    "    - The `mutation` column tries to convert the label to an amino acid change. It starts with \"`aa`\" if it's a mutation, `del` if it's a deletion, and `ins` if it's an insertion. Most of the bioinformatics field uses aa mutations because they have information about the structure and function of the genome. However, there's not exactly a standardized notation for this. \n",
    "\n",
    "In addition to the file above (the so-called \"mapped\" file), there is a \"covereage\" file. This file simply reports the coverage at every position of the genome. This is very useful when searching for mutations that we know belong to lineages: if the mutation was not observed, we know that it's count was 0 but the mapped file will have no information about the coverage. A count of 0 with a coverage of 1 doesn't mean much, but a count of 0 when the coverage is 5000 means the mutation (and therefore the lineage) is probably not present either."
   ]
  },
  {
   "cell_type": "markdown",
   "metadata": {},
   "source": [
    "# Data Post-Processing\n",
    "\n",
    "There are a few main approaches to processing the data, depending on the purpose of the study. Some studies will be using a set of mutations that are known to be present in various lineages, other studies need observations of each mutation on each day.\n",
    "\n",
    "## Mutation List-based Analyses\n",
    "\n",
    "This is pretty straightforward: if we have a set of mutations that we are looking for, we simply find those in the data. Right? Well, we also care about whether those mutations were *not* present. As noted before, 0/1 and 0/5000 are different amounts of information from missing mutations. The processing steps are thus:\n",
    "\n",
    "1. Find the mutations of interest that are present in the data.\n",
    "2. For mutations that are not present, use the coverage file to find out exactly how \"not present\" they are.\n",
    "3. For convenience, include information about which lineages each mutation appears in.\n",
    "\n",
    "The above process is done for all of the samples that we have. The resulting file looks like this:"
   ]
  },
  {
   "cell_type": "markdown",
   "metadata": {},
   "source": [
    "\n",
    "\n",
    "## \n"
   ]
  },
  {
   "cell_type": "code",
   "execution_count": 4,
   "metadata": {
    "vscode": {
     "languageId": "r"
    }
   },
   "outputs": [
    {
     "data": {
      "text/html": [
       "<table class=\"dataframe\">\n",
       "<caption>A data.frame: 6 × 9</caption>\n",
       "<thead>\n",
       "\t<tr><th></th><th scope=col>mutation</th><th scope=col>sample</th><th scope=col>date</th><th scope=col>count</th><th scope=col>coverage</th><th scope=col>var_B.1.1.7</th><th scope=col>var_B.1.351</th><th scope=col>var_B.1.617.2</th><th scope=col>var_P.1</th></tr>\n",
       "\t<tr><th></th><th scope=col>&lt;chr&gt;</th><th scope=col>&lt;chr&gt;</th><th scope=col>&lt;chr&gt;</th><th scope=col>&lt;int&gt;</th><th scope=col>&lt;int&gt;</th><th scope=col>&lt;int&gt;</th><th scope=col>&lt;int&gt;</th><th scope=col>&lt;int&gt;</th><th scope=col>&lt;int&gt;</th></tr>\n",
       "</thead>\n",
       "<tbody>\n",
       "\t<tr><th scope=row>1</th><td>aa:E:P71L</td><td>ERR5922198</td><td>2021-02-13</td><td>1</td><td>3018</td><td>0</td><td>1</td><td>0</td><td>0</td></tr>\n",
       "\t<tr><th scope=row>2</th><td>aa:E:P71L</td><td>ERR5922199</td><td>2021-02-12</td><td>1</td><td>1177</td><td>0</td><td>1</td><td>0</td><td>0</td></tr>\n",
       "\t<tr><th scope=row>3</th><td>aa:E:P71L</td><td>ERR5922200</td><td>2021-02-10</td><td>2</td><td>4726</td><td>0</td><td>1</td><td>0</td><td>0</td></tr>\n",
       "\t<tr><th scope=row>4</th><td>aa:E:P71L</td><td>ERR5922201</td><td>2021-02-09</td><td>2</td><td>4032</td><td>0</td><td>1</td><td>0</td><td>0</td></tr>\n",
       "\t<tr><th scope=row>5</th><td>aa:E:P71L</td><td>ERR5922202</td><td>2021-02-07</td><td>1</td><td>4953</td><td>0</td><td>1</td><td>0</td><td>0</td></tr>\n",
       "\t<tr><th scope=row>6</th><td>aa:E:P71L</td><td>ERR5922203</td><td>2021-02-06</td><td>0</td><td>  11</td><td>0</td><td>1</td><td>0</td><td>0</td></tr>\n",
       "</tbody>\n",
       "</table>\n"
      ],
      "text/latex": [
       "A data.frame: 6 × 9\n",
       "\\begin{tabular}{r|lllllllll}\n",
       "  & mutation & sample & date & count & coverage & var\\_B.1.1.7 & var\\_B.1.351 & var\\_B.1.617.2 & var\\_P.1\\\\\n",
       "  & <chr> & <chr> & <chr> & <int> & <int> & <int> & <int> & <int> & <int>\\\\\n",
       "\\hline\n",
       "\t1 & aa:E:P71L & ERR5922198 & 2021-02-13 & 1 & 3018 & 0 & 1 & 0 & 0\\\\\n",
       "\t2 & aa:E:P71L & ERR5922199 & 2021-02-12 & 1 & 1177 & 0 & 1 & 0 & 0\\\\\n",
       "\t3 & aa:E:P71L & ERR5922200 & 2021-02-10 & 2 & 4726 & 0 & 1 & 0 & 0\\\\\n",
       "\t4 & aa:E:P71L & ERR5922201 & 2021-02-09 & 2 & 4032 & 0 & 1 & 0 & 0\\\\\n",
       "\t5 & aa:E:P71L & ERR5922202 & 2021-02-07 & 1 & 4953 & 0 & 1 & 0 & 0\\\\\n",
       "\t6 & aa:E:P71L & ERR5922203 & 2021-02-06 & 0 &   11 & 0 & 1 & 0 & 0\\\\\n",
       "\\end{tabular}\n"
      ],
      "text/markdown": [
       "\n",
       "A data.frame: 6 × 9\n",
       "\n",
       "| <!--/--> | mutation &lt;chr&gt; | sample &lt;chr&gt; | date &lt;chr&gt; | count &lt;int&gt; | coverage &lt;int&gt; | var_B.1.1.7 &lt;int&gt; | var_B.1.351 &lt;int&gt; | var_B.1.617.2 &lt;int&gt; | var_P.1 &lt;int&gt; |\n",
       "|---|---|---|---|---|---|---|---|---|---|\n",
       "| 1 | aa:E:P71L | ERR5922198 | 2021-02-13 | 1 | 3018 | 0 | 1 | 0 | 0 |\n",
       "| 2 | aa:E:P71L | ERR5922199 | 2021-02-12 | 1 | 1177 | 0 | 1 | 0 | 0 |\n",
       "| 3 | aa:E:P71L | ERR5922200 | 2021-02-10 | 2 | 4726 | 0 | 1 | 0 | 0 |\n",
       "| 4 | aa:E:P71L | ERR5922201 | 2021-02-09 | 2 | 4032 | 0 | 1 | 0 | 0 |\n",
       "| 5 | aa:E:P71L | ERR5922202 | 2021-02-07 | 1 | 4953 | 0 | 1 | 0 | 0 |\n",
       "| 6 | aa:E:P71L | ERR5922203 | 2021-02-06 | 0 |   11 | 0 | 1 | 0 | 0 |\n",
       "\n"
      ],
      "text/plain": [
       "  mutation  sample     date       count coverage var_B.1.1.7 var_B.1.351\n",
       "1 aa:E:P71L ERR5922198 2021-02-13 1     3018     0           1          \n",
       "2 aa:E:P71L ERR5922199 2021-02-12 1     1177     0           1          \n",
       "3 aa:E:P71L ERR5922200 2021-02-10 2     4726     0           1          \n",
       "4 aa:E:P71L ERR5922201 2021-02-09 2     4032     0           1          \n",
       "5 aa:E:P71L ERR5922202 2021-02-07 1     4953     0           1          \n",
       "6 aa:E:P71L ERR5922203 2021-02-06 0       11     0           1          \n",
       "  var_B.1.617.2 var_P.1\n",
       "1 0             0      \n",
       "2 0             0      \n",
       "3 0             0      \n",
       "4 0             0      \n",
       "5 0             0      \n",
       "6 0             0      "
      ]
     },
     "metadata": {},
     "output_type": "display_data"
    }
   ],
   "source": [
    "jahn <- read.csv(here(\"data/jahn_variants.csv\"))\n",
    "head(jahn[, c(\"mutation\", \"sample\", \"date\", \"count\", \"coverage\", \"var_B.1.1.7\", \"var_B.1.351\", \"var_B.1.617.2\", \"var_P.1\")])\n"
   ]
  },
  {
   "cell_type": "markdown",
   "metadata": {},
   "source": [
    "As you can see, the mutations are still in GromStole's aa format. \n",
    "\n",
    "- Sample names tell us which wastewater sample the data come from.\n",
    "- In this example, the data are sorted by mutation, which is why we see the same mutation on several different dates \n",
    "    - They are also present in several different locations, which is not shown here.\n",
    "- The \"`var_*`\" columns tell us that mutation `aa:E:P71L` is present in B.1.351 (Beta lineage), but not in the other lineages. \n",
    "    - During the study period Beta was pretty low, hence the low counts relative to the coverage."
   ]
  },
  {
   "cell_type": "markdown",
   "metadata": {},
   "source": [
    "## Mutation-centric analysis, especially clustering\n",
    "\n",
    "There are several analyses which are not based on knowing which mutations to look for. This requires a slightly different data processing pipeline. We must strike a balance between information and file size. This is achieved by:\n",
    "\n",
    "1. Find all mutations that had a frequency above 20% at least once in the study period.\n",
    "    - Justification: If a mutation is never present in more than 20% of the sample, then it probably doesn't have much information.\n",
    "2. Find those mutations in all samples (using coverage files to make up for mutations with 0 count in a given sample).\n",
    "\n",
    "I have this as the second version of processing the data, but this is actually the default. The lineage-based processing can be accomplished by further processing these files. \n",
    "\n",
    "The resultant file is the same as the one above, but without the \"`var_*`\" columns. The difference is the amount of data."
   ]
  }
 ],
 "metadata": {
  "kernelspec": {
   "display_name": "R",
   "language": "R",
   "name": "ir"
  },
  "language_info": {
   "codemirror_mode": "r",
   "file_extension": ".r",
   "mimetype": "text/x-r-source",
   "name": "R",
   "pygments_lexer": "r",
   "version": "4.2.1"
  }
 },
 "nbformat": 4,
 "nbformat_minor": 2
}
